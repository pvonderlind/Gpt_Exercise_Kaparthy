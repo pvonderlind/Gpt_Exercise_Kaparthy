{
 "cells": [
  {
   "cell_type": "code",
   "execution_count": 1,
   "outputs": [],
   "source": [
    "import torch\n",
    "import torch.nn.functional as F\n",
    "import matplotlib.pyplot as plt\n",
    "%matplotlib inline"
   ],
   "metadata": {
    "collapsed": false,
    "pycharm": {
     "name": "#%%\n"
    }
   }
  },
  {
   "cell_type": "code",
   "execution_count": 2,
   "outputs": [
    {
     "data": {
      "text/plain": "['emma', 'olivia', 'ava', 'isabella', 'sophia', 'charlotte', 'mia', 'amelia']"
     },
     "execution_count": 2,
     "metadata": {},
     "output_type": "execute_result"
    }
   ],
   "source": [
    "words = open('names.txt', 'r', encoding='utf-8').read().splitlines()\n",
    "words[:8]"
   ],
   "metadata": {
    "collapsed": false,
    "pycharm": {
     "name": "#%%\n"
    }
   }
  },
  {
   "cell_type": "code",
   "execution_count": 3,
   "outputs": [
    {
     "name": "stdout",
     "output_type": "stream",
     "text": [
      "{1: 'a', 2: 'b', 3: 'c', 4: 'd', 5: 'e', 6: 'f', 7: 'g', 8: 'h', 9: 'i', 10: 'j', 11: 'k', 12: 'l', 13: 'm', 14: 'n', 15: 'o', 16: 'p', 17: 'q', 18: 'r', 19: 's', 20: 't', 21: 'u', 22: 'v', 23: 'w', 24: 'x', 25: 'y', 26: 'z', 0: '.'}\n"
     ]
    }
   ],
   "source": [
    "chars = sorted(list(set(''.join(words))))\n",
    "stoi = {s:i+1 for i,s in enumerate(chars)}\n",
    "stoi['.'] = 0\n",
    "itos = {i:s for s,i in stoi.items()}\n",
    "vocab_size = len(itos.keys())\n",
    "print(itos)"
   ],
   "metadata": {
    "collapsed": false,
    "pycharm": {
     "name": "#%%\n"
    }
   }
  },
  {
   "cell_type": "code",
   "execution_count": 33,
   "outputs": [],
   "source": [
    "block_size = 3 # Offset of context\n",
    "\n",
    "def build_dataset(words):\n",
    "    X, Y = [], []\n",
    "    for w in words:\n",
    "        #print(w)\n",
    "        context = [0] * block_size\n",
    "        for ch in w + '.':\n",
    "            ix = stoi[ch]\n",
    "            X.append(context)\n",
    "            Y.append(ix)\n",
    "            #print(''.join(itos[i] for i in context), '-->', itos[ix])\n",
    "            context = context[1:] + [ix]\n",
    "    X = torch.tensor(X)\n",
    "    Y = torch.tensor(Y)\n",
    "    return X, Y\n",
    "\n",
    "import random\n",
    "random.seed(42)\n",
    "random.shuffle(words)\n",
    "n1 = int(0.8*len(words))\n",
    "n2 = int(0.9*len(words))\n",
    "\n",
    "Xtr, Ytr = build_dataset(words[:n1])\n",
    "Xdev, Ydev = build_dataset(words[n1:n2])\n",
    "Xte, Yte = build_dataset(words[n2:])"
   ],
   "metadata": {
    "collapsed": false,
    "pycharm": {
     "name": "#%%\n"
    }
   }
  },
  {
   "cell_type": "code",
   "execution_count": 43,
   "outputs": [],
   "source": [
    "def cmp(s, dt, t):\n",
    "    ex = torch.all(dt == t.grad).item()\n",
    "    app = torch.allclose(dt, t.grad)\n",
    "    maxdiff = (dt - t.grad).abs().max().item()\n",
    "    print(f'{s:15s} | exact: {str(ex):5s} | approximate {str(app):5s} | maxdiff: {maxdiff}')"
   ],
   "metadata": {
    "collapsed": false,
    "pycharm": {
     "name": "#%%\n"
    }
   }
  },
  {
   "cell_type": "code",
   "execution_count": 35,
   "outputs": [
    {
     "name": "stdout",
     "output_type": "stream",
     "text": [
      "4137\n"
     ]
    }
   ],
   "source": [
    "n_embd = 10\n",
    "n_hidden = 64\n",
    "\n",
    "# Network layers\n",
    "g = torch.Generator().manual_seed(21474783647)\n",
    "C = torch.randn((vocab_size, n_embd), generator=g)\n",
    "W1 = torch.randn((n_embd * block_size, n_hidden), generator=g) * 0.2\n",
    "b1 = torch.randn(n_hidden, generator=g) * 0.1 # using b1 just for fun, it's useless anyways ...\n",
    "W2 = torch.randn((n_hidden, vocab_size), generator=g) * 0.01\n",
    "b2 = torch.randn(vocab_size, generator=g) * 0.1\n",
    "\n",
    "# Batchnorm. parameters\n",
    "bngain = torch.ones((1, n_hidden))*0.1 + 1.0\n",
    "bnbias = torch.zeros((1, n_hidden))*0.1\n",
    "\n",
    "parameters = [C, W1, W2, b1, b2, bngain, bnbias]\n",
    "print(sum(p.nelement() for p in parameters))\n",
    "for p in parameters:\n",
    "    p.requires_grad = True"
   ],
   "metadata": {
    "collapsed": false,
    "pycharm": {
     "name": "#%%\n"
    }
   }
  },
  {
   "cell_type": "code",
   "execution_count": 36,
   "outputs": [],
   "source": [
    "batch_size = 32\n",
    "n = batch_size\n",
    "ix = torch.randint(0, Xtr.shape[0], (batch_size,), generator=g)\n",
    "Xb, Yb = Xtr[ix], Ytr[ix]"
   ],
   "metadata": {
    "collapsed": false,
    "pycharm": {
     "name": "#%%\n"
    }
   }
  },
  {
   "cell_type": "markdown",
   "source": [
    "The very part-wise procedure for the forward pass below is so we can then calculate the backward pass\n",
    "on it during this exercise:"
   ],
   "metadata": {
    "collapsed": false,
    "pycharm": {
     "name": "#%% md\n"
    }
   }
  },
  {
   "cell_type": "code",
   "execution_count": 37,
   "outputs": [
    {
     "data": {
      "text/plain": "tensor(3.2892, grad_fn=<NegBackward0>)"
     },
     "execution_count": 37,
     "metadata": {},
     "output_type": "execute_result"
    }
   ],
   "source": [
    "# FORWARD PASS\n",
    "# Emb layer\n",
    "emb = C[Xb] # 32, 3, 2\n",
    "emb_cat = emb.view(emb.shape[0], -1) # Concat vectors\n",
    "\n",
    "# Linear layer 1\n",
    "hprebn = emb_cat @ W1 # + b1 # Hidden layer preactivation\n",
    "\n",
    "# Batch-Normalization Layer\n",
    "bnmeani = 1/n  *hprebn.sum(0, keepdim=True)\n",
    "bndiff = hprebn - bnmeani\n",
    "bndiff2 = bndiff ** 2\n",
    "bnvar = 1/(n-1)*(bndiff2).sum(0, keepdim=True)\n",
    "bnvar_inv = (bnvar + 1e-5) ** -0.5\n",
    "bnraw = bndiff * bnvar_inv\n",
    "hpreact = bngain * bnraw + bnbias\n",
    "\n",
    "\n",
    "# Activation FN, Non-Linearity\n",
    "h = torch.tanh(hpreact) # 32, 100\n",
    "\n",
    "# Linear Layer 2\n",
    "logits = h @ W2 + b2 # 32, 27\n",
    "\n",
    "# Cross Entropy Loss (same as F.cross_entropy)\n",
    "logits_maxes = logits.max(1, keepdim=True).values\n",
    "norm_logits = logits - logits_maxes # 0 Center for numerical stability, since we exponentiate the logits\n",
    "counts = norm_logits.exp()\n",
    "counts_sum = counts.sum(1, keepdims=True)\n",
    "counts_sum_inv = counts_sum**-1\n",
    "probs = counts * counts_sum_inv\n",
    "logprobs = probs.log()\n",
    "loss = -logprobs[range(n), Yb].mean()\n",
    "\n",
    "# BACKWARD PASS\n",
    "for p in parameters:\n",
    "    p.grad = None\n",
    "for t in [logprobs, probs, counts, counts_sum, counts_sum_inv,\n",
    "          norm_logits, logits_maxes, logits, h, hpreact, bnraw,\n",
    "          bnvar_inv, bnvar, bndiff2, bndiff, hprebn, bnmeani,\n",
    "          emb_cat, emb]:\n",
    "    t.retain_grad()\n",
    "loss.backward()\n",
    "loss"
   ],
   "metadata": {
    "collapsed": false,
    "pycharm": {
     "name": "#%%\n"
    }
   }
  },
  {
   "cell_type": "markdown",
   "source": [
    "### Exercise 1: Calculate the backprop of the loss gradient explicitly"
   ],
   "metadata": {
    "collapsed": false,
    "pycharm": {
     "name": "#%% md\n"
    }
   }
  },
  {
   "cell_type": "code",
   "execution_count": 49,
   "outputs": [
    {
     "name": "stdout",
     "output_type": "stream",
     "text": [
      "logprobs        | exact: True  | approximate True  | maxdiff: 0.0\n",
      "probs           | exact: True  | approximate True  | maxdiff: 0.0\n",
      "counts_sum_inv  | exact: True  | approximate True  | maxdiff: 0.0\n",
      "counts_sum      | exact: True  | approximate True  | maxdiff: 0.0\n",
      "counts          | exact: True  | approximate True  | maxdiff: 0.0\n",
      "norm_logits     | exact: True  | approximate True  | maxdiff: 0.0\n",
      "logits_maxes    | exact: True  | approximate True  | maxdiff: 0.0\n",
      "logits          | exact: True  | approximate True  | maxdiff: 0.0\n",
      "h               | exact: True  | approximate True  | maxdiff: 0.0\n",
      "W2              | exact: True  | approximate True  | maxdiff: 0.0\n",
      "b2              | exact: True  | approximate True  | maxdiff: 0.0\n",
      "hpreact         | exact: True  | approximate True  | maxdiff: 0.0\n",
      "bngain          | exact: True  | approximate True  | maxdiff: 0.0\n",
      "bnraw           | exact: True  | approximate True  | maxdiff: 0.0\n",
      "bnbias          | exact: True  | approximate True  | maxdiff: 0.0\n",
      "bnvar_inv       | exact: True  | approximate True  | maxdiff: 0.0\n",
      "bnvar           | exact: True  | approximate True  | maxdiff: 0.0\n",
      "bndiff2         | exact: True  | approximate True  | maxdiff: 0.0\n",
      "bndiff          | exact: True  | approximate True  | maxdiff: 0.0\n",
      "bnmeani         | exact: True  | approximate True  | maxdiff: 0.0\n",
      "hprebn          | exact: True  | approximate True  | maxdiff: 0.0\n",
      "emb_cat         | exact: True  | approximate True  | maxdiff: 0.0\n",
      "W1              | exact: True  | approximate True  | maxdiff: 0.0\n",
      "emb             | exact: True  | approximate True  | maxdiff: 0.0\n",
      "C               | exact: True  | approximate True  | maxdiff: 0.0\n"
     ]
    }
   ],
   "source": [
    "dlogprobs = torch.zeros_like(logprobs)\n",
    "dlogprobs[range(n), Yb] = -1.0/n\n",
    "\n",
    "# Derivative of logprobs with respect to probs + chain-rule applied\n",
    "dprobs = (1.0 / probs) * dlogprobs\n",
    "\n",
    "# Derivative of probs with respect to counts_sum_inv, Note: care for the broadcasting operation required for the matmul here!\n",
    "# the sum operation collapses the first dimension (columns), which means we get the row sums here!\n",
    "dcounts_sum_inv = (counts * dprobs).sum(1, keepdims=True)\n",
    "\n",
    "# Not additional summation required here, since the shapes are fine when broadcasted anyway (since it broadcasts row-wise now, not col-wise)\n",
    "# Care that counts is used twice: once by probs and once by counts_sum and counts_sum_inv\n",
    "dcounts = counts_sum_inv * dprobs\n",
    "\n",
    "dcounts_sum = (-1.0 / counts_sum ** 2) * dcounts_sum_inv\n",
    "\n",
    "# Broadcasting here implements the replication for us internally\n",
    "# The intuition behind this is, that a sum operation basically distributes the gradient (e.g. here dcounts_sum) to all of the elements\n",
    "# that contributed to it!\n",
    "dcounts += torch.ones_like(counts_sum) * dcounts_sum\n",
    "\n",
    "# Could also use counts * dcounts since counts = norm_logits.exp()\n",
    "dnorm_logits = norm_logits.exp() * dcounts\n",
    "\n",
    "# Is the same as dnorm_logits since we again get 1s for all the elements that contribute, Note: This is not the final dlogits, as it\n",
    "# has another branch that flows into it!\n",
    "dlogits = dnorm_logits.clone()\n",
    "# Is the negative of dnorm_logits for the same reason, but we have to collapse the column dim to get the same shape as maxes again (32,1)\n",
    "dlogits_maxes = (-dnorm_logits).sum(1, keepdims=True)\n",
    "\n",
    "logit_max_mask = torch.zeros_like(logits)\n",
    "logit_max_mask[range(n),  logits.max(1).indices]  = 1\n",
    "dlogits += logit_max_mask * dlogits_maxes\n",
    "\n",
    "dh = dlogits @ W2.T\n",
    "dW2 = h.T @ dlogits\n",
    "db2 = dlogits.sum(0)\n",
    "\n",
    "dhpreact = (1.0 - h ** 2) * dh\n",
    "\n",
    "dbngain = (bnraw * dhpreact).sum(0, keepdims=True)\n",
    "dbnraw = bngain * dhpreact\n",
    "dbnbias = dhpreact.sum(0, keepdim=True)\n",
    "\n",
    "# This bndiff is not complete, as there is another branch missing that we will backprop at the end!!\n",
    "dbndiff = bnvar_inv * dbnraw\n",
    "dbnvar_inv = (bndiff * dbnraw).sum(0, keepdim=True)\n",
    "\n",
    "dbnvar = (-0.5 * (bnvar + 1e-5) ** (-1.5)) * dbnvar_inv\n",
    "\n",
    "dbndiff2 = (1/(n-1)) * dbnvar\n",
    "# bndiff2 = bndiff ** 2\n",
    "dbndiff += 2 * bndiff * dbndiff2\n",
    "\n",
    "# Carefull with the shapes here! hprebn is shape (32,64) while bnmeani is (1,64)\n",
    "# -> This means in the forward pass there is broadcasting, which means in the backward pass\n",
    "# we will have to do a sum operation for the bnmeani!\n",
    "dbnmeani = (-dbndiff).sum(0, keepdims=True)\n",
    "# Note: hprebn is not complete, since it has two branches, one that depends on dbnmeani!!\n",
    "dhprebn = dbndiff.clone()\n",
    "#bnmeani = 1/n  *hprebn.sum(0, keepdim=True)\n",
    "dhprebn += (1/n) * dbnmeani\n",
    "\n",
    "dembcat = dhprebn @ W1.T\n",
    "dW1 = emb_cat.T @ dhprebn\n",
    "db1 = dhprebn.sum(0)\n",
    "\n",
    "demb = dembcat.view((32, 3, 10))\n",
    "dC = torch.zeros_like(C)\n",
    "for i in range(Xb.shape[0]):\n",
    "    for j in range(Xb.shape[1]):\n",
    "        ix = Xb[i, j]\n",
    "        dC[ix] += demb[i, j]\n",
    "\n",
    "cmp('logprobs', dlogprobs, logprobs)\n",
    "cmp('probs', dprobs, probs)\n",
    "cmp('counts_sum_inv', dcounts_sum_inv, counts_sum_inv)\n",
    "cmp('counts_sum', dcounts_sum, counts_sum)\n",
    "cmp('counts', dcounts, counts)\n",
    "cmp('norm_logits', dnorm_logits, norm_logits)\n",
    "cmp('logits_maxes', dlogits_maxes, logits_maxes)\n",
    "cmp('logits', dlogits, logits)\n",
    "cmp('h', dh, h)\n",
    "cmp('W2', dW2, W2)\n",
    "cmp('b2', db2, b2)\n",
    "cmp('hpreact', dhpreact, hpreact)\n",
    "cmp('bngain', dbngain, bngain)\n",
    "cmp('bnraw', dbnraw, bnraw)\n",
    "cmp('bnbias', dbnbias, bnbias)\n",
    "cmp('bnvar_inv', dbnvar_inv, bnvar_inv)\n",
    "cmp('bnvar', dbnvar, bnvar)\n",
    "cmp('bndiff2', dbndiff2, bndiff2)\n",
    "cmp('bndiff', dbndiff, bndiff)\n",
    "cmp('bnmeani', dbnmeani, bnmeani)\n",
    "cmp('hprebn', dhprebn, hprebn)\n",
    "cmp('emb_cat', dembcat, emb_cat)\n",
    "cmp('W1', dW1, W1)\n",
    "#cmp('b1', db1, b1)\n",
    "cmp('emb', demb, emb)\n",
    "cmp('C', dC, C)"
   ],
   "metadata": {
    "collapsed": false,
    "pycharm": {
     "name": "#%%\n"
    }
   }
  },
  {
   "cell_type": "markdown",
   "source": [
    "## Exercise 2: Cross Entropy Loss Backward Pass"
   ],
   "metadata": {
    "collapsed": false,
    "pycharm": {
     "name": "#%% md\n"
    }
   }
  }
 ],
 "metadata": {
  "kernelspec": {
   "display_name": "Python 3",
   "language": "python",
   "name": "python3"
  },
  "language_info": {
   "codemirror_mode": {
    "name": "ipython",
    "version": 2
   },
   "file_extension": ".py",
   "mimetype": "text/x-python",
   "name": "python",
   "nbconvert_exporter": "python",
   "pygments_lexer": "ipython2",
   "version": "2.7.6"
  }
 },
 "nbformat": 4,
 "nbformat_minor": 0
}