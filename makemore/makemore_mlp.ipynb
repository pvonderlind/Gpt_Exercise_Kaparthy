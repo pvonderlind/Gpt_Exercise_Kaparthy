{
 "cells": [
  {
   "cell_type": "markdown",
   "source": [
    "# Part 3: MLP"
   ],
   "metadata": {
    "collapsed": false,
    "pycharm": {
     "name": "#%% md\n"
    }
   }
  },
  {
   "cell_type": "markdown",
   "source": [
    "We extend the single token model to include more context into the model.\n",
    "We will also extend the representation of tokens into embedding space. This will allow the network to learn more novel connections between similar embeddings (e.g. dog and cat are both animals and might be similar).\n",
    "We follow the approaches by [Bengio et.al 2009]."
   ],
   "metadata": {
    "collapsed": false,
    "pycharm": {
     "name": "#%% md\n"
    }
   }
  },
  {
   "cell_type": "markdown",
   "source": [
    "#### Imports and data loading"
   ],
   "metadata": {
    "collapsed": false,
    "pycharm": {
     "name": "#%% md\n"
    }
   }
  },
  {
   "cell_type": "code",
   "execution_count": 2,
   "outputs": [],
   "source": [
    "import torch\n",
    "import torch.nn.functional as F\n",
    "import matplotlib.pyplot as plt\n",
    "%matplotlib inline"
   ],
   "metadata": {
    "collapsed": false,
    "pycharm": {
     "name": "#%%\n"
    }
   }
  },
  {
   "cell_type": "code",
   "execution_count": 3,
   "outputs": [
    {
     "data": {
      "text/plain": "['emma', 'olivia', 'ava', 'isabella', 'sophia', 'charlotte', 'mia', 'amelia']"
     },
     "execution_count": 3,
     "metadata": {},
     "output_type": "execute_result"
    }
   ],
   "source": [
    "words = open('names.txt', 'r', encoding='utf-8').read().splitlines()\n",
    "words[:8]"
   ],
   "metadata": {
    "collapsed": false,
    "pycharm": {
     "name": "#%%\n"
    }
   }
  },
  {
   "cell_type": "code",
   "execution_count": 4,
   "outputs": [
    {
     "data": {
      "text/plain": "32033"
     },
     "execution_count": 4,
     "metadata": {},
     "output_type": "execute_result"
    }
   ],
   "source": [
    "len(words)"
   ],
   "metadata": {
    "collapsed": false,
    "pycharm": {
     "name": "#%%\n"
    }
   }
  },
  {
   "cell_type": "code",
   "execution_count": 5,
   "outputs": [
    {
     "name": "stdout",
     "output_type": "stream",
     "text": [
      "{1: 'a', 2: 'b', 3: 'c', 4: 'd', 5: 'e', 6: 'f', 7: 'g', 8: 'h', 9: 'i', 10: 'j', 11: 'k', 12: 'l', 13: 'm', 14: 'n', 15: 'o', 16: 'p', 17: 'q', 18: 'r', 19: 's', 20: 't', 21: 'u', 22: 'v', 23: 'w', 24: 'x', 25: 'y', 26: 'z', 0: '.'}\n"
     ]
    }
   ],
   "source": [
    "chars = sorted(list(set(''.join(words))))\n",
    "stoi = {s:i+1 for i,s in enumerate(chars)}\n",
    "stoi['.'] = 0\n",
    "itos = {i:s for s,i in stoi.items()}\n",
    "print(itos)"
   ],
   "metadata": {
    "collapsed": false,
    "pycharm": {
     "name": "#%%\n"
    }
   }
  },
  {
   "cell_type": "markdown",
   "source": [
    "#### Setup dataset with context offset"
   ],
   "metadata": {
    "collapsed": false,
    "pycharm": {
     "name": "#%% md\n"
    }
   }
  },
  {
   "cell_type": "markdown",
   "source": [
    "__Notes__:\n",
    "* __Blocksize__: How many characters are used to predict the next one"
   ],
   "metadata": {
    "collapsed": false,
    "pycharm": {
     "name": "#%% md\n"
    }
   }
  },
  {
   "cell_type": "markdown",
   "source": [
    "First, we setup the training and test set with a blocksize of 3 characters. This means, each label has\n",
    "3 characters before it as training data. For starts, we only use the first 5 words to make calulation fast\n",
    "to show the process:"
   ],
   "metadata": {
    "collapsed": false,
    "pycharm": {
     "name": "#%% md\n"
    }
   }
  },
  {
   "cell_type": "code",
   "execution_count": 6,
   "outputs": [
    {
     "name": "stdout",
     "output_type": "stream",
     "text": [
      "emma\n",
      "... --> e\n",
      "..e --> m\n",
      ".em --> m\n",
      "emm --> a\n",
      "mma --> .\n",
      "olivia\n",
      "... --> o\n",
      "..o --> l\n",
      ".ol --> i\n",
      "oli --> v\n",
      "liv --> i\n",
      "ivi --> a\n",
      "via --> .\n",
      "ava\n",
      "... --> a\n",
      "..a --> v\n",
      ".av --> a\n",
      "ava --> .\n",
      "isabella\n",
      "... --> i\n",
      "..i --> s\n",
      ".is --> a\n",
      "isa --> b\n",
      "sab --> e\n",
      "abe --> l\n",
      "bel --> l\n",
      "ell --> a\n",
      "lla --> .\n",
      "sophia\n",
      "... --> s\n",
      "..s --> o\n",
      ".so --> p\n",
      "sop --> h\n",
      "oph --> i\n",
      "phi --> a\n",
      "hia --> .\n"
     ]
    }
   ],
   "source": [
    "block_size = 3 # Offset of context\n",
    "X, Y = [], []\n",
    "for w in words[:5]:\n",
    "    print(w)\n",
    "    context = [0] * block_size\n",
    "    for ch in w + '.':\n",
    "        ix = stoi[ch]\n",
    "        X.append(context)\n",
    "        Y.append(ix)\n",
    "        print(''.join(itos[i] for i in context), '-->', itos[ix])\n",
    "        context = context[1:] + [ix]\n",
    "X = torch.tensor(X)\n",
    "Y = torch.tensor(Y)"
   ],
   "metadata": {
    "collapsed": false,
    "pycharm": {
     "name": "#%%\n"
    }
   }
  },
  {
   "cell_type": "code",
   "execution_count": 7,
   "outputs": [
    {
     "data": {
      "text/plain": "(torch.Size([32, 3]), torch.Size([32]), torch.int64, torch.int64)"
     },
     "execution_count": 7,
     "metadata": {},
     "output_type": "execute_result"
    }
   ],
   "source": [
    "X.shape, Y.shape, X.dtype, Y.dtype"
   ],
   "metadata": {
    "collapsed": false,
    "pycharm": {
     "name": "#%%\n"
    }
   }
  },
  {
   "cell_type": "markdown",
   "source": [
    "#### Creating the embedding layer\n",
    "\n",
    "__Notes__:\n",
    "\n",
    "* __Split tensor along a dimension__: For this we can use __torch.unbind__, which returns a tuple of\n",
    "tensor slices along a given dimension.\n",
    "* __Concat tensor slices__: We can use __torch.cat__ along a dimension for a sequence of tensors for this.\n",
    "* __Efficient way of manipulating a tensor shape__: We can use __torch.view__ to extremely efficiently manipulate the shape of\n",
    "a tensor. This is because the storage is not manipulated, just the representation.\n",
    "* __Dimension inferring in view__: We can use -1 as dimension value to let torch infer the dimension from the data!\n",
    "* __Tensor storage__: Tensors are represented as 1-dimensional lists in the memory, which are just represented by views with strides, offsets, ..."
   ],
   "metadata": {
    "collapsed": false,
    "pycharm": {
     "name": "#%% md\n"
    }
   }
  },
  {
   "cell_type": "markdown",
   "source": [
    "First, for each of the characters we want a representation of size 2.\n",
    "This means, with a blocksize of 3, we (later on) get a representation of size 6 for\n",
    "our character context:"
   ],
   "metadata": {
    "collapsed": false,
    "pycharm": {
     "name": "#%% md\n"
    }
   }
  },
  {
   "cell_type": "code",
   "execution_count": 8,
   "outputs": [],
   "source": [
    "C = torch.randn((27, 2))"
   ],
   "metadata": {
    "collapsed": false,
    "pycharm": {
     "name": "#%%\n"
    }
   }
  },
  {
   "cell_type": "markdown",
   "source": [
    "Because of the nice indexing of PyTorch (similar to numpy's indexing), we can do the following to\n",
    "get the embeddings for all of X at once:"
   ],
   "metadata": {
    "collapsed": false,
    "pycharm": {
     "name": "#%% md\n"
    }
   }
  },
  {
   "cell_type": "code",
   "execution_count": 9,
   "outputs": [
    {
     "data": {
      "text/plain": "torch.Size([32, 3, 2])"
     },
     "execution_count": 9,
     "metadata": {},
     "output_type": "execute_result"
    }
   ],
   "source": [
    "emb = C[X]\n",
    "emb.shape"
   ],
   "metadata": {
    "collapsed": false,
    "pycharm": {
     "name": "#%%\n"
    }
   }
  },
  {
   "cell_type": "markdown",
   "source": [
    "Next we create random weights and biases for our embedding layer.\n",
    "The input size is 3x2 (3 characters with a 2 dim embedding each) by 100 (hyperparameter for emb. size):"
   ],
   "metadata": {
    "collapsed": false,
    "pycharm": {
     "name": "#%% md\n"
    }
   }
  },
  {
   "cell_type": "code",
   "execution_count": 10,
   "outputs": [],
   "source": [
    "W1 = torch.randn((6, 100))\n",
    "b1 = torch.randn(100)"
   ],
   "metadata": {
    "collapsed": false,
    "pycharm": {
     "name": "#%%\n"
    }
   }
  },
  {
   "cell_type": "markdown",
   "source": [
    "#### Inefficient way of manipulating the input to fit the layer input size:\n",
    "\n",
    "Next, we have to find a way to concatenate the input tensor X to fit the matrix multiplication\n",
    "requirements with W1. For this, we use the torch.cat function to concatenate a sequence\n",
    "of tensors along dimension 1 (since we want 2+2+2 as our dim=1). Since we need a sequence of\n",
    "the dimensions we want to cat along, we can use torch.unbind along the first dimension of the\n",
    "emb tensor, which returns a tuple of the slices:"
   ],
   "metadata": {
    "collapsed": false,
    "pycharm": {
     "name": "#%% md\n"
    }
   }
  },
  {
   "cell_type": "code",
   "execution_count": 11,
   "outputs": [],
   "source": [
    "slow_emb = torch.cat(torch.unbind(emb, dim=1), dim=1)"
   ],
   "metadata": {
    "collapsed": false,
    "pycharm": {
     "name": "#%%\n"
    }
   }
  },
  {
   "cell_type": "markdown",
   "source": [
    "#### Efficient way to generate input\n",
    "We now propose a more efficient way of generating the input: by using __views__.\n",
    "This does just give a different return from memory, but does not change anything in memory,\n",
    "making it very fast!"
   ],
   "metadata": {
    "collapsed": false,
    "pycharm": {
     "name": "#%% md\n"
    }
   }
  },
  {
   "cell_type": "code",
   "execution_count": 12,
   "outputs": [],
   "source": [
    "fast_emb = emb.view(32,6)"
   ],
   "metadata": {
    "collapsed": false,
    "pycharm": {
     "name": "#%%\n"
    }
   }
  },
  {
   "cell_type": "markdown",
   "source": [
    "We can now prove this does the same:"
   ],
   "metadata": {
    "collapsed": false,
    "pycharm": {
     "name": "#%% md\n"
    }
   }
  },
  {
   "cell_type": "code",
   "execution_count": 13,
   "outputs": [
    {
     "data": {
      "text/plain": "tensor([[True, True, True, True, True, True],\n        [True, True, True, True, True, True],\n        [True, True, True, True, True, True],\n        [True, True, True, True, True, True],\n        [True, True, True, True, True, True],\n        [True, True, True, True, True, True],\n        [True, True, True, True, True, True],\n        [True, True, True, True, True, True],\n        [True, True, True, True, True, True],\n        [True, True, True, True, True, True],\n        [True, True, True, True, True, True],\n        [True, True, True, True, True, True],\n        [True, True, True, True, True, True],\n        [True, True, True, True, True, True],\n        [True, True, True, True, True, True],\n        [True, True, True, True, True, True],\n        [True, True, True, True, True, True],\n        [True, True, True, True, True, True],\n        [True, True, True, True, True, True],\n        [True, True, True, True, True, True],\n        [True, True, True, True, True, True],\n        [True, True, True, True, True, True],\n        [True, True, True, True, True, True],\n        [True, True, True, True, True, True],\n        [True, True, True, True, True, True],\n        [True, True, True, True, True, True],\n        [True, True, True, True, True, True],\n        [True, True, True, True, True, True],\n        [True, True, True, True, True, True],\n        [True, True, True, True, True, True],\n        [True, True, True, True, True, True],\n        [True, True, True, True, True, True]])"
     },
     "execution_count": 13,
     "metadata": {},
     "output_type": "execute_result"
    }
   ],
   "source": [
    "slow_emb == fast_emb"
   ],
   "metadata": {
    "collapsed": false,
    "pycharm": {
     "name": "#%%\n"
    }
   }
  },
  {
   "cell_type": "markdown",
   "source": [
    "#### Fast way of creating the hidden layer for the embeddings\n",
    "\n",
    "Thus, we can create our hidden states between input and embedding layers as follows\n",
    "using view and matrix multiplication, as well as tanh as activation function:"
   ],
   "metadata": {
    "collapsed": false,
    "pycharm": {
     "name": "#%% md\n"
    }
   }
  },
  {
   "cell_type": "code",
   "execution_count": 14,
   "outputs": [],
   "source": [
    "h = torch.tanh(emb.view(-1, 6) @ W1 + b1)"
   ],
   "metadata": {
    "collapsed": false,
    "pycharm": {
     "name": "#%%\n"
    }
   }
  },
  {
   "cell_type": "code",
   "execution_count": 15,
   "outputs": [
    {
     "data": {
      "text/plain": "tensor([[ 0.9851, -0.7448,  0.4785,  ...,  0.6980, -0.9932,  0.6045],\n        [ 0.5811,  0.9712, -0.8279,  ...,  0.8543, -0.9382, -0.8643],\n        [ 0.9989, -0.9998,  0.9938,  ..., -0.9902, -0.9958,  1.0000],\n        ...,\n        [ 1.0000, -0.9756,  0.6907,  ...,  0.9995, -1.0000, -0.5075],\n        [-0.6624,  0.9996, -0.9860,  ...,  0.6559, -0.9984, -0.8874],\n        [ 0.9902, -0.9999,  0.9969,  ..., -0.9316, -0.9525,  0.9997]])"
     },
     "execution_count": 15,
     "metadata": {},
     "output_type": "execute_result"
    }
   ],
   "source": [
    "h"
   ],
   "metadata": {
    "collapsed": false,
    "pycharm": {
     "name": "#%%\n"
    }
   }
  },
  {
   "cell_type": "code",
   "execution_count": 16,
   "outputs": [
    {
     "data": {
      "text/plain": "torch.Size([32, 100])"
     },
     "execution_count": 16,
     "metadata": {},
     "output_type": "execute_result"
    }
   ],
   "source": [
    "h.shape"
   ],
   "metadata": {
    "collapsed": false,
    "pycharm": {
     "name": "#%%\n"
    }
   }
  },
  {
   "cell_type": "markdown",
   "source": [
    "### Creating the second hidden layer (output)\n",
    "\n",
    "First, we create a layer with an input dim of 100 (emb size) and an output size\n",
    "of 27 (num characters we want probabilities for):"
   ],
   "metadata": {
    "collapsed": false,
    "pycharm": {
     "name": "#%% md\n"
    }
   }
  },
  {
   "cell_type": "code",
   "execution_count": 17,
   "outputs": [],
   "source": [
    "W2 = torch.randn((100, 27))\n",
    "b2 = torch.randn(27)"
   ],
   "metadata": {
    "collapsed": false,
    "pycharm": {
     "name": "#%%\n"
    }
   }
  },
  {
   "cell_type": "code",
   "execution_count": 18,
   "outputs": [],
   "source": [
    "logits = h @ W2 + b2"
   ],
   "metadata": {
    "collapsed": false,
    "pycharm": {
     "name": "#%%\n"
    }
   }
  },
  {
   "cell_type": "code",
   "execution_count": 19,
   "outputs": [
    {
     "data": {
      "text/plain": "torch.Size([32, 27])"
     },
     "execution_count": 19,
     "metadata": {},
     "output_type": "execute_result"
    }
   ],
   "source": [
    "logits.shape"
   ],
   "metadata": {
    "collapsed": false,
    "pycharm": {
     "name": "#%%\n"
    }
   }
  },
  {
   "cell_type": "markdown",
   "source": [
    "We then manually apply a softmax function, like in the simple bigram examples before:"
   ],
   "metadata": {
    "collapsed": false,
    "pycharm": {
     "name": "#%% md\n"
    }
   }
  },
  {
   "cell_type": "code",
   "execution_count": 20,
   "outputs": [],
   "source": [
    "counts = logits.exp()"
   ],
   "metadata": {
    "collapsed": false,
    "pycharm": {
     "name": "#%%\n"
    }
   }
  },
  {
   "cell_type": "code",
   "execution_count": 21,
   "outputs": [],
   "source": [
    "prob = counts / counts.sum(1, keepdims=True)"
   ],
   "metadata": {
    "collapsed": false,
    "pycharm": {
     "name": "#%%\n"
    }
   }
  },
  {
   "cell_type": "code",
   "execution_count": 22,
   "outputs": [
    {
     "data": {
      "text/plain": "torch.Size([32, 27])"
     },
     "execution_count": 22,
     "metadata": {},
     "output_type": "execute_result"
    }
   ],
   "source": [
    "prob.shape"
   ],
   "metadata": {
    "collapsed": false,
    "pycharm": {
     "name": "#%%\n"
    }
   }
  },
  {
   "cell_type": "markdown",
   "source": [
    "### Get the loss (like in last exercises)\n",
    "\n",
    "We calculate the average neg. log-likelihood loss for the labels Y:"
   ],
   "metadata": {
    "collapsed": false,
    "pycharm": {
     "name": "#%% md\n"
    }
   }
  },
  {
   "cell_type": "code",
   "execution_count": 23,
   "outputs": [
    {
     "data": {
      "text/plain": "tensor(13.0840)"
     },
     "execution_count": 23,
     "metadata": {},
     "output_type": "execute_result"
    }
   ],
   "source": [
    "loss = -prob[torch.arange(32), Y].log().mean()\n",
    "loss"
   ],
   "metadata": {
    "collapsed": false,
    "pycharm": {
     "name": "#%%\n"
    }
   }
  },
  {
   "cell_type": "markdown",
   "source": [
    "## Putting all of it together neatly\n",
    "\n",
    "__Notes__:\n",
    "* __Never re-implement your own loss function if it exists in torch!__: PyTorch does make the computation __more performant__ using __kernels__ for forward and backward pass!\n",
    "Also solves some issues with outliers in the logits (ae. large positive values) that then exeeds the range of the floating point type used.\n",
    "__PyTorch solves this internally by subtracting the maximum value from the logits__, which does not change the output!\n",
    "* __Logits + Softmax ==> Cross_entropy__: We can just pass the logits to the function API cross_entropy function to get\n",
    "the same results!"
   ],
   "metadata": {
    "collapsed": false,
    "pycharm": {
     "name": "#%% md\n"
    }
   }
  },
  {
   "cell_type": "code",
   "execution_count": 24,
   "outputs": [],
   "source": [
    "g = torch.Generator().manual_seed(21474783647)\n",
    "C = torch.randn((27, 2), generator=g)\n",
    "W1 = torch.randn((6, 100), generator=g)\n",
    "b1 = torch.randn(100, generator=g)\n",
    "W2 = torch.randn((100, 27), generator=g)\n",
    "b2 = torch.randn(27, generator=g)\n",
    "parameters = [C, W1, b1, W2, b2]\n",
    "\n",
    "for p in parameters:\n",
    "    p.requires_grad = True"
   ],
   "metadata": {
    "collapsed": false,
    "pycharm": {
     "name": "#%%\n"
    }
   }
  },
  {
   "cell_type": "code",
   "execution_count": 25,
   "outputs": [
    {
     "data": {
      "text/plain": "3481"
     },
     "execution_count": 25,
     "metadata": {},
     "output_type": "execute_result"
    }
   ],
   "source": [
    "sum(p.nelement() for p in parameters)"
   ],
   "metadata": {
    "collapsed": false,
    "pycharm": {
     "name": "#%%\n"
    }
   }
  },
  {
   "cell_type": "markdown",
   "source": [
    "We also re-initialize X and Y to use the whole dataset:"
   ],
   "metadata": {
    "collapsed": false,
    "pycharm": {
     "name": "#%% md\n"
    }
   }
  },
  {
   "cell_type": "code",
   "execution_count": 26,
   "outputs": [],
   "source": [
    "block_size = 3 # Offset of context\n",
    "X, Y = [], []\n",
    "for w in words:\n",
    "    #print(w)\n",
    "    context = [0] * block_size\n",
    "    for ch in w + '.':\n",
    "        ix = stoi[ch]\n",
    "        X.append(context)\n",
    "        Y.append(ix)\n",
    "        #print(''.join(itos[i] for i in context), '-->', itos[ix])\n",
    "        context = context[1:] + [ix]\n",
    "X = torch.tensor(X)\n",
    "Y = torch.tensor(Y)"
   ],
   "metadata": {
    "collapsed": false,
    "pycharm": {
     "name": "#%%\n"
    }
   }
  },
  {
   "cell_type": "markdown",
   "source": [
    "#### Training loop\n",
    "We now implement a training loop and optimize\n",
    "To improve performance we also implement __mini-batching__.\n",
    "\n",
    "__Notes__:\n",
    "\n",
    "* __Intrinsic motivation of using Mini-Batches__: Is a trade-off between performance and a noisy gradient. We don't get the exact gradient of each sample, but\n",
    "one that is __good enough__. Since we get __lots of performance__ this is a worth trade-off every time!\n",
    "* __How to find a good learning rate (without employing gridsearch/random-seach which are BETTER IN PRODUCTION!!!!)__:\n",
    "__==> In PROD USE GRID/RANDOM-SEARCH__\n",
    "    1. Start of by finding a place where the learning rate starts to explode. For us, this seems to be outside of the range\n",
    "[0.01, 1].\n",
    "  2. We can then generate a bunch of learning rates (zb. 1000) on the log scale (using linspace and 10 ** lr).\n",
    "  3. We then run a training loop with 1000 steps, switching lr for each iteration and collect the losses for each lr.\n",
    "  4. The resulting losses can then be plotted against the learning rates we tried.\n"
   ],
   "metadata": {
    "collapsed": false,
    "pycharm": {
     "name": "#%% md\n"
    }
   }
  },
  {
   "cell_type": "code",
   "execution_count": 27,
   "outputs": [],
   "source": [
    "lre = torch.linspace(-3, 0, 1000)\n",
    "lrs = 10 ** lre"
   ],
   "metadata": {
    "collapsed": false,
    "pycharm": {
     "name": "#%%\n"
    }
   }
  },
  {
   "cell_type": "code",
   "execution_count": 28,
   "outputs": [
    {
     "name": "stdout",
     "output_type": "stream",
     "text": [
      "15.875308990478516\n",
      "15.825887680053711\n",
      "18.426513671875\n",
      "14.21733570098877\n",
      "18.271331787109375\n",
      "18.176328659057617\n",
      "16.647254943847656\n",
      "18.76511001586914\n",
      "16.355249404907227\n",
      "18.10293197631836\n",
      "17.08315086364746\n",
      "18.21858787536621\n",
      "15.194869995117188\n",
      "16.841022491455078\n",
      "17.94376564025879\n",
      "13.557910919189453\n",
      "15.801590919494629\n",
      "15.624237060546875\n",
      "15.211970329284668\n",
      "20.366180419921875\n",
      "15.779664039611816\n",
      "18.560518264770508\n",
      "15.526995658874512\n",
      "20.63199806213379\n",
      "15.404668807983398\n",
      "14.307439804077148\n",
      "17.6911563873291\n",
      "16.507753372192383\n",
      "15.289091110229492\n",
      "15.753973960876465\n",
      "15.673746109008789\n",
      "16.052146911621094\n",
      "17.000059127807617\n",
      "16.54884147644043\n",
      "16.361419677734375\n",
      "17.877544403076172\n",
      "17.956506729125977\n",
      "16.456993103027344\n",
      "13.444775581359863\n",
      "14.90052318572998\n",
      "16.664926528930664\n",
      "17.618576049804688\n",
      "14.982379913330078\n",
      "15.415900230407715\n",
      "17.57268524169922\n",
      "14.727627754211426\n",
      "15.126505851745605\n",
      "17.44561195373535\n",
      "18.878625869750977\n",
      "17.983726501464844\n",
      "15.374213218688965\n",
      "15.123353958129883\n",
      "11.678668022155762\n",
      "17.84446907043457\n",
      "16.268590927124023\n",
      "16.90244483947754\n",
      "14.95431900024414\n",
      "17.560823440551758\n",
      "16.08312225341797\n",
      "14.16730785369873\n",
      "16.200597763061523\n",
      "16.177701950073242\n",
      "17.055622100830078\n",
      "18.038921356201172\n",
      "16.570295333862305\n",
      "16.837011337280273\n",
      "21.334882736206055\n",
      "15.562020301818848\n",
      "16.11168098449707\n",
      "15.181200981140137\n",
      "16.487707138061523\n",
      "19.006013870239258\n",
      "14.73008918762207\n",
      "16.104799270629883\n",
      "15.879070281982422\n",
      "15.440908432006836\n",
      "15.07947826385498\n",
      "16.2965145111084\n",
      "16.05568504333496\n",
      "17.03679847717285\n",
      "16.939006805419922\n",
      "16.240829467773438\n",
      "17.330299377441406\n",
      "15.327269554138184\n",
      "13.889702796936035\n",
      "16.005746841430664\n",
      "14.295228004455566\n",
      "14.846861839294434\n",
      "17.606678009033203\n",
      "14.794275283813477\n",
      "15.455461502075195\n",
      "15.181558609008789\n",
      "17.082643508911133\n",
      "16.439006805419922\n",
      "15.623112678527832\n",
      "14.276254653930664\n",
      "15.383255004882812\n",
      "14.916818618774414\n",
      "14.59320068359375\n",
      "15.820611953735352\n",
      "14.396650314331055\n",
      "16.075498580932617\n",
      "14.847779273986816\n",
      "14.150089263916016\n",
      "15.02192211151123\n",
      "14.27773666381836\n",
      "16.560379028320312\n",
      "13.562453269958496\n",
      "17.842750549316406\n",
      "13.290828704833984\n",
      "15.42862606048584\n",
      "13.302377700805664\n",
      "14.68670654296875\n",
      "11.340317726135254\n",
      "15.479109764099121\n",
      "14.227294921875\n",
      "16.56436538696289\n",
      "13.096272468566895\n",
      "14.75020980834961\n",
      "13.340853691101074\n",
      "15.884111404418945\n",
      "15.114667892456055\n",
      "13.540998458862305\n",
      "15.891877174377441\n",
      "14.035051345825195\n",
      "14.649913787841797\n",
      "15.185476303100586\n",
      "14.070236206054688\n",
      "13.919060707092285\n",
      "12.241144180297852\n",
      "14.337560653686523\n",
      "14.207386016845703\n",
      "13.34688949584961\n",
      "14.384480476379395\n",
      "14.014955520629883\n",
      "15.721784591674805\n",
      "14.829448699951172\n",
      "15.425898551940918\n",
      "16.627708435058594\n",
      "16.29292869567871\n",
      "13.783150672912598\n",
      "15.624434471130371\n",
      "12.885282516479492\n",
      "11.887699127197266\n",
      "15.540648460388184\n",
      "14.916098594665527\n",
      "14.575936317443848\n",
      "13.575582504272461\n",
      "13.33991527557373\n",
      "14.542988777160645\n",
      "16.41102409362793\n",
      "14.904423713684082\n",
      "13.118978500366211\n",
      "14.627090454101562\n",
      "16.485559463500977\n",
      "13.053792953491211\n",
      "14.763978004455566\n",
      "12.89367961883545\n",
      "15.09930419921875\n",
      "11.928921699523926\n",
      "14.924420356750488\n",
      "13.28607177734375\n",
      "14.338811874389648\n",
      "14.36893367767334\n",
      "12.833807945251465\n",
      "16.050872802734375\n",
      "14.64121150970459\n",
      "14.52805233001709\n",
      "13.10177230834961\n",
      "13.240863800048828\n",
      "15.537967681884766\n",
      "14.517191886901855\n",
      "14.426801681518555\n",
      "14.427618980407715\n",
      "13.38129997253418\n",
      "13.601922988891602\n",
      "12.743450164794922\n",
      "12.814531326293945\n",
      "14.05885124206543\n",
      "14.326486587524414\n",
      "13.786701202392578\n",
      "10.858794212341309\n",
      "13.68502426147461\n",
      "13.202566146850586\n",
      "12.899415969848633\n",
      "12.945311546325684\n",
      "13.19033145904541\n",
      "13.748858451843262\n",
      "11.679157257080078\n",
      "12.851757049560547\n",
      "15.427021980285645\n",
      "11.495697975158691\n",
      "11.799368858337402\n",
      "11.692048072814941\n",
      "11.125551223754883\n",
      "14.169058799743652\n",
      "12.119891166687012\n",
      "10.653868675231934\n",
      "11.718705177307129\n",
      "13.112150192260742\n",
      "14.087759017944336\n",
      "11.976533889770508\n",
      "12.867218971252441\n",
      "14.191899299621582\n",
      "12.40368366241455\n",
      "11.171095848083496\n",
      "12.850425720214844\n",
      "10.719091415405273\n",
      "11.33834171295166\n",
      "14.764732360839844\n",
      "13.220809936523438\n",
      "10.83578872680664\n",
      "14.879876136779785\n",
      "10.857295989990234\n",
      "11.173836708068848\n",
      "11.933459281921387\n",
      "15.006285667419434\n",
      "12.412528991699219\n",
      "12.086692810058594\n",
      "12.572793006896973\n",
      "12.287327766418457\n",
      "10.857682228088379\n",
      "12.13370418548584\n",
      "11.289088249206543\n",
      "12.930830001831055\n",
      "12.388469696044922\n",
      "11.965437889099121\n",
      "9.446181297302246\n",
      "11.086221694946289\n",
      "11.541362762451172\n",
      "11.366911888122559\n",
      "12.536773681640625\n",
      "13.162981033325195\n",
      "12.34697437286377\n",
      "11.610749244689941\n",
      "10.739018440246582\n",
      "13.45603084564209\n",
      "11.689818382263184\n",
      "12.741886138916016\n",
      "11.427534103393555\n",
      "9.334883689880371\n",
      "10.5037260055542\n",
      "8.790321350097656\n",
      "11.637153625488281\n",
      "9.731292724609375\n",
      "12.710386276245117\n",
      "11.084128379821777\n",
      "9.494131088256836\n",
      "10.839666366577148\n",
      "10.769536972045898\n",
      "11.815656661987305\n",
      "11.625245094299316\n",
      "12.133722305297852\n",
      "11.552327156066895\n",
      "11.204221725463867\n",
      "9.690068244934082\n",
      "10.957268714904785\n",
      "10.729693412780762\n",
      "11.538516998291016\n",
      "9.748503684997559\n",
      "10.266190528869629\n",
      "11.141485214233398\n",
      "10.8628568649292\n",
      "11.441752433776855\n",
      "12.63100814819336\n",
      "11.242228507995605\n",
      "11.253190040588379\n",
      "10.568860054016113\n",
      "13.298375129699707\n",
      "8.224322319030762\n",
      "12.601017951965332\n",
      "12.104915618896484\n",
      "9.740769386291504\n",
      "10.443741798400879\n",
      "10.309492111206055\n",
      "9.150278091430664\n",
      "8.912327766418457\n",
      "8.98562240600586\n",
      "11.98696231842041\n",
      "12.631020545959473\n",
      "10.915857315063477\n",
      "12.15661907196045\n",
      "11.152311325073242\n",
      "9.989667892456055\n",
      "9.576704025268555\n",
      "11.559270858764648\n",
      "11.366449356079102\n",
      "8.730147361755371\n",
      "10.587224006652832\n",
      "9.635814666748047\n",
      "10.385653495788574\n",
      "10.210087776184082\n",
      "10.066650390625\n",
      "9.110610961914062\n",
      "9.244476318359375\n",
      "10.020126342773438\n",
      "9.78927993774414\n",
      "9.895073890686035\n",
      "9.58137035369873\n",
      "8.91217041015625\n",
      "8.848610877990723\n",
      "10.535722732543945\n",
      "9.96578311920166\n",
      "8.477584838867188\n",
      "9.722737312316895\n",
      "8.750777244567871\n",
      "10.110373497009277\n",
      "11.557034492492676\n",
      "9.85548210144043\n",
      "9.235408782958984\n",
      "10.350238800048828\n",
      "9.0279541015625\n",
      "9.04086971282959\n",
      "7.887970924377441\n",
      "8.783129692077637\n",
      "10.795299530029297\n",
      "8.524947166442871\n",
      "9.070632934570312\n",
      "8.412508010864258\n",
      "9.215643882751465\n",
      "8.600503921508789\n",
      "9.305747985839844\n",
      "9.919285774230957\n",
      "7.173630714416504\n",
      "7.7712931632995605\n",
      "9.006735801696777\n",
      "10.734920501708984\n",
      "8.616474151611328\n",
      "6.423311233520508\n",
      "9.241894721984863\n",
      "10.69571590423584\n",
      "10.643550872802734\n",
      "9.200217247009277\n",
      "7.257997512817383\n",
      "8.10018253326416\n",
      "7.197336196899414\n",
      "8.879807472229004\n",
      "8.893068313598633\n",
      "7.92413854598999\n",
      "7.857259750366211\n",
      "7.170572280883789\n",
      "8.73663330078125\n",
      "8.723992347717285\n",
      "7.43579626083374\n",
      "7.379568576812744\n",
      "11.424131393432617\n",
      "6.047378063201904\n",
      "8.847177505493164\n",
      "7.762465476989746\n",
      "9.865401268005371\n",
      "6.75553035736084\n",
      "10.376723289489746\n",
      "7.740190029144287\n",
      "10.276654243469238\n",
      "7.879361629486084\n",
      "7.754128932952881\n",
      "7.257191181182861\n",
      "9.03345775604248\n",
      "7.198779582977295\n",
      "8.329150199890137\n",
      "7.949610233306885\n",
      "8.18702507019043\n",
      "7.962118625640869\n",
      "8.508197784423828\n",
      "7.227526664733887\n",
      "9.864997863769531\n",
      "7.399652004241943\n",
      "7.672082901000977\n",
      "8.37546443939209\n",
      "6.574556350708008\n",
      "8.096380233764648\n",
      "8.649409294128418\n",
      "7.967082500457764\n",
      "7.364134788513184\n",
      "7.192575454711914\n",
      "8.294435501098633\n",
      "7.991431713104248\n",
      "8.810611724853516\n",
      "8.393060684204102\n",
      "6.601501941680908\n",
      "8.794046401977539\n",
      "7.229017734527588\n",
      "6.791207313537598\n",
      "6.3181657791137695\n",
      "7.252504348754883\n",
      "7.923948287963867\n",
      "6.180467128753662\n",
      "6.636087894439697\n",
      "5.282414436340332\n",
      "7.702925205230713\n",
      "6.157622337341309\n",
      "7.665254592895508\n",
      "7.832903861999512\n",
      "8.235790252685547\n",
      "6.0438690185546875\n",
      "5.901279449462891\n",
      "8.124253273010254\n",
      "5.639679908752441\n",
      "6.156256198883057\n",
      "5.986933708190918\n",
      "7.698709964752197\n",
      "7.101199150085449\n",
      "6.432076930999756\n",
      "7.459670066833496\n",
      "8.061894416809082\n",
      "7.080482006072998\n",
      "6.793155670166016\n",
      "7.1981401443481445\n",
      "6.0856428146362305\n",
      "7.009427070617676\n",
      "6.440330505371094\n",
      "7.423055648803711\n",
      "7.083134651184082\n",
      "7.67307710647583\n",
      "5.22867488861084\n",
      "6.298397064208984\n",
      "7.062328338623047\n",
      "5.386063098907471\n",
      "5.5280938148498535\n",
      "6.325655460357666\n",
      "6.580204963684082\n",
      "5.4275383949279785\n",
      "5.919473648071289\n",
      "6.308854103088379\n",
      "7.590635299682617\n",
      "4.4508514404296875\n",
      "6.593194007873535\n",
      "5.370744705200195\n",
      "6.567080974578857\n",
      "5.748359203338623\n",
      "6.847457408905029\n",
      "5.594339847564697\n",
      "6.2523193359375\n",
      "7.068741798400879\n",
      "5.732493877410889\n",
      "6.132964134216309\n",
      "5.637059211730957\n",
      "5.245769500732422\n",
      "6.150465965270996\n",
      "4.975969314575195\n",
      "5.447671413421631\n",
      "6.141599655151367\n",
      "5.958634376525879\n",
      "6.515076160430908\n",
      "6.793187618255615\n",
      "5.737037658691406\n",
      "5.645475387573242\n",
      "5.88487434387207\n",
      "5.44057559967041\n",
      "6.273749828338623\n",
      "5.612135410308838\n",
      "4.6898956298828125\n",
      "4.998168468475342\n",
      "5.919957160949707\n",
      "5.127195835113525\n",
      "5.380325794219971\n",
      "5.7424516677856445\n",
      "5.2586774826049805\n",
      "5.936243057250977\n",
      "6.89221715927124\n",
      "5.1854095458984375\n",
      "4.927157878875732\n",
      "5.775778770446777\n",
      "6.27568244934082\n",
      "5.577937126159668\n",
      "5.564724445343018\n",
      "5.2027268409729\n",
      "5.075435161590576\n",
      "6.080478191375732\n",
      "5.900904178619385\n",
      "5.7479143142700195\n",
      "4.753558158874512\n",
      "5.929473400115967\n",
      "5.25231409072876\n",
      "4.1962571144104\n",
      "4.632557392120361\n",
      "5.136035442352295\n",
      "5.516737937927246\n",
      "6.422327518463135\n",
      "5.9191999435424805\n",
      "4.857807159423828\n",
      "6.237288951873779\n",
      "4.412515640258789\n",
      "4.778818130493164\n",
      "5.795444488525391\n",
      "5.594706058502197\n",
      "4.4940266609191895\n",
      "5.379796981811523\n",
      "4.59156608581543\n",
      "5.347562313079834\n",
      "4.88951301574707\n",
      "4.274712562561035\n",
      "6.502744674682617\n",
      "3.726250648498535\n",
      "5.317825794219971\n",
      "4.553995609283447\n",
      "5.075146675109863\n",
      "4.085050582885742\n",
      "4.551043510437012\n",
      "4.959463596343994\n",
      "4.658339500427246\n",
      "5.221407413482666\n",
      "4.322749614715576\n",
      "3.682657480239868\n",
      "3.9344260692596436\n",
      "4.107532024383545\n",
      "3.6656744480133057\n",
      "4.334911346435547\n",
      "3.9627726078033447\n",
      "4.590832710266113\n",
      "4.295158863067627\n",
      "4.878666400909424\n",
      "5.548846244812012\n",
      "4.833066463470459\n",
      "4.711110591888428\n",
      "4.419868469238281\n",
      "3.633108139038086\n",
      "4.415256500244141\n",
      "4.578216552734375\n",
      "4.670652866363525\n",
      "4.487648963928223\n",
      "3.8615658283233643\n",
      "4.89642333984375\n",
      "4.178707599639893\n",
      "4.370342254638672\n",
      "5.326365947723389\n",
      "4.464115619659424\n",
      "3.117250442504883\n",
      "4.305703639984131\n",
      "3.6788876056671143\n",
      "3.631518602371216\n",
      "5.491220951080322\n",
      "4.09197473526001\n",
      "4.7187089920043945\n",
      "4.1086273193359375\n",
      "4.203481674194336\n",
      "3.4323930740356445\n",
      "5.009613513946533\n",
      "4.834901332855225\n",
      "3.3162546157836914\n",
      "4.272561550140381\n",
      "4.058808326721191\n",
      "3.428990125656128\n",
      "4.1197710037231445\n",
      "3.852710008621216\n",
      "5.041664123535156\n",
      "3.2484986782073975\n",
      "2.84407901763916\n",
      "3.8216583728790283\n",
      "4.393026351928711\n",
      "3.5750486850738525\n",
      "4.157445907592773\n",
      "3.209972858428955\n",
      "4.208724498748779\n",
      "3.3102662563323975\n",
      "4.752126216888428\n",
      "3.480597972869873\n",
      "3.558177947998047\n",
      "3.5621156692504883\n",
      "3.8253285884857178\n",
      "3.631740093231201\n",
      "4.1442790031433105\n",
      "3.881828784942627\n",
      "4.277530193328857\n",
      "5.137485027313232\n",
      "4.183041572570801\n",
      "4.111091613769531\n",
      "3.77532696723938\n",
      "3.9153859615325928\n",
      "4.759373664855957\n",
      "4.865458965301514\n",
      "3.759376287460327\n",
      "3.391511917114258\n",
      "3.944800615310669\n",
      "4.861352920532227\n",
      "5.330313682556152\n",
      "4.18781042098999\n",
      "3.860511541366577\n",
      "3.6642467975616455\n",
      "3.093583106994629\n",
      "3.3438456058502197\n",
      "5.1707000732421875\n",
      "4.683635711669922\n",
      "3.7546474933624268\n",
      "3.7288057804107666\n",
      "4.402607440948486\n",
      "4.619313716888428\n",
      "3.8623790740966797\n",
      "3.947244167327881\n",
      "3.300746440887451\n",
      "3.750136137008667\n",
      "3.815356731414795\n",
      "3.6274971961975098\n",
      "3.771097421646118\n",
      "3.9509174823760986\n",
      "3.606372117996216\n",
      "4.2602715492248535\n",
      "3.379783868789673\n",
      "3.987269163131714\n",
      "3.7350077629089355\n",
      "3.5626261234283447\n",
      "3.882711887359619\n",
      "3.7679026126861572\n",
      "3.108930826187134\n",
      "3.69037127494812\n",
      "3.748232841491699\n",
      "3.4005234241485596\n",
      "3.5582151412963867\n",
      "2.8600215911865234\n",
      "3.709014892578125\n",
      "3.595858573913574\n",
      "2.9043643474578857\n",
      "3.6947100162506104\n",
      "3.2848093509674072\n",
      "3.995229482650757\n",
      "3.4208052158355713\n",
      "3.40922474861145\n",
      "3.61277437210083\n",
      "3.8653688430786133\n",
      "3.163478136062622\n",
      "3.052562952041626\n",
      "2.5870871543884277\n",
      "3.3419675827026367\n",
      "3.758305072784424\n",
      "4.0731329917907715\n",
      "3.3906407356262207\n",
      "3.9073381423950195\n",
      "3.3409087657928467\n",
      "3.1193161010742188\n",
      "3.212771415710449\n",
      "3.6777901649475098\n",
      "3.7135279178619385\n",
      "2.7486319541931152\n",
      "3.819204330444336\n",
      "2.888547420501709\n",
      "2.7137231826782227\n",
      "4.573410511016846\n",
      "3.506777763366699\n",
      "3.535698175430298\n",
      "3.441892385482788\n",
      "2.7403995990753174\n",
      "3.046539068222046\n",
      "2.650388717651367\n",
      "3.708226442337036\n",
      "2.949819326400757\n",
      "3.4324774742126465\n",
      "3.6888954639434814\n",
      "2.8756723403930664\n",
      "3.478546142578125\n",
      "3.870452404022217\n",
      "3.4432671070098877\n",
      "3.369231939315796\n",
      "2.8884823322296143\n",
      "3.0784718990325928\n",
      "3.2732927799224854\n",
      "3.132662296295166\n",
      "3.1597630977630615\n",
      "3.099409580230713\n",
      "3.3190879821777344\n",
      "4.189382076263428\n",
      "3.1230764389038086\n",
      "2.7121927738189697\n",
      "4.141292572021484\n",
      "3.1844964027404785\n",
      "3.160083770751953\n",
      "3.988097667694092\n",
      "3.4677274227142334\n",
      "3.244905710220337\n",
      "3.3977694511413574\n",
      "3.5942158699035645\n",
      "3.5195870399475098\n",
      "2.500730514526367\n",
      "3.463836431503296\n",
      "3.777669906616211\n",
      "3.0714504718780518\n",
      "3.4053430557250977\n",
      "3.4411234855651855\n",
      "3.5848052501678467\n",
      "3.3150699138641357\n",
      "3.330644130706787\n",
      "2.9476609230041504\n",
      "2.692131519317627\n",
      "3.1570844650268555\n",
      "3.5846056938171387\n",
      "3.0219056606292725\n",
      "3.2608590126037598\n",
      "3.158371686935425\n",
      "3.350156784057617\n",
      "3.0064399242401123\n",
      "3.404282331466675\n",
      "4.086133003234863\n",
      "3.1670525074005127\n",
      "3.3257439136505127\n",
      "3.2222788333892822\n",
      "3.1179933547973633\n",
      "3.240384578704834\n",
      "3.136151075363159\n",
      "2.900604009628296\n",
      "2.9894778728485107\n",
      "3.3475680351257324\n",
      "3.615453004837036\n",
      "3.327962875366211\n",
      "2.874875068664551\n",
      "2.8930182456970215\n",
      "2.958141565322876\n",
      "3.873302698135376\n",
      "3.196240186691284\n",
      "2.805415630340576\n",
      "3.212960720062256\n",
      "3.2341878414154053\n",
      "2.664541721343994\n",
      "3.298349380493164\n",
      "3.5711019039154053\n",
      "3.599552869796753\n",
      "3.290762424468994\n",
      "2.6387414932250977\n",
      "3.421745538711548\n",
      "3.2257728576660156\n",
      "3.222404956817627\n",
      "2.8832345008850098\n",
      "2.9892101287841797\n",
      "2.9654159545898438\n",
      "2.9293572902679443\n",
      "3.0573325157165527\n",
      "2.4331068992614746\n",
      "2.8615305423736572\n",
      "3.9260966777801514\n",
      "3.568242073059082\n",
      "2.8244855403900146\n",
      "2.9271273612976074\n",
      "3.2306556701660156\n",
      "3.2702014446258545\n",
      "3.2980237007141113\n",
      "2.6893255710601807\n",
      "3.061990976333618\n",
      "3.1826508045196533\n",
      "4.0093841552734375\n",
      "3.70650315284729\n",
      "3.184994697570801\n",
      "3.106431484222412\n",
      "2.730794906616211\n",
      "3.545341968536377\n",
      "3.0192084312438965\n",
      "3.4873507022857666\n",
      "2.453306198120117\n",
      "3.54421329498291\n",
      "3.4535317420959473\n",
      "3.9840543270111084\n",
      "2.545596122741699\n",
      "2.9500856399536133\n",
      "3.646172285079956\n",
      "3.6972169876098633\n",
      "3.3024706840515137\n",
      "3.262387990951538\n",
      "3.5234272480010986\n",
      "3.2064456939697266\n",
      "2.865802049636841\n",
      "3.182755947113037\n",
      "3.015434503555298\n",
      "2.991135358810425\n",
      "3.7292771339416504\n",
      "3.157050848007202\n",
      "2.8948869705200195\n",
      "3.203714609146118\n",
      "3.427659273147583\n",
      "4.5250396728515625\n",
      "3.22691011428833\n",
      "3.3793468475341797\n",
      "3.0418379306793213\n",
      "3.6639065742492676\n",
      "3.0253076553344727\n",
      "3.2815141677856445\n",
      "3.1121418476104736\n",
      "3.359930992126465\n",
      "2.915921688079834\n",
      "2.870007276535034\n",
      "3.3596174716949463\n",
      "3.560147285461426\n",
      "3.009166717529297\n",
      "3.650329828262329\n",
      "3.799088478088379\n",
      "3.42659068107605\n",
      "3.2591326236724854\n",
      "2.9505279064178467\n",
      "4.356476783752441\n",
      "3.7876601219177246\n",
      "3.2003588676452637\n",
      "3.215805768966675\n",
      "3.278902530670166\n",
      "3.7650816440582275\n",
      "3.17307710647583\n",
      "3.6096138954162598\n",
      "3.432537794113159\n",
      "4.05102014541626\n",
      "2.987114906311035\n",
      "3.3669538497924805\n",
      "3.5401597023010254\n",
      "3.3354575634002686\n",
      "3.305088758468628\n",
      "3.874408006668091\n",
      "3.448967695236206\n",
      "2.799239158630371\n",
      "3.8834073543548584\n",
      "3.56221866607666\n",
      "2.9786243438720703\n",
      "3.6013691425323486\n",
      "3.7755844593048096\n",
      "3.396885633468628\n",
      "3.0657994747161865\n",
      "3.1376595497131348\n",
      "2.861947774887085\n",
      "2.635272979736328\n",
      "3.542055130004883\n",
      "3.8434414863586426\n",
      "3.632744312286377\n",
      "3.345527410507202\n",
      "3.1764228343963623\n",
      "4.281063556671143\n",
      "4.019763469696045\n",
      "3.297668218612671\n",
      "3.014819383621216\n",
      "2.9770286083221436\n",
      "3.1242876052856445\n",
      "3.992682456970215\n",
      "3.4400136470794678\n",
      "3.5031332969665527\n",
      "3.162574291229248\n",
      "3.477822780609131\n",
      "3.092444896697998\n",
      "3.761047840118408\n",
      "3.4803733825683594\n",
      "2.9297831058502197\n",
      "3.0080766677856445\n",
      "3.330782413482666\n",
      "3.896585464477539\n",
      "3.8283724784851074\n",
      "3.3372232913970947\n",
      "3.0017268657684326\n",
      "4.053068161010742\n",
      "3.116520643234253\n",
      "3.2607216835021973\n",
      "2.633694648742676\n",
      "3.8642311096191406\n",
      "3.3057239055633545\n",
      "3.283101797103882\n",
      "3.1231679916381836\n",
      "4.062994956970215\n",
      "3.529317855834961\n",
      "3.175673723220825\n",
      "3.1020798683166504\n",
      "3.4185338020324707\n",
      "3.6038172245025635\n",
      "3.2988057136535645\n",
      "3.9824979305267334\n",
      "4.534315586090088\n",
      "4.528270721435547\n",
      "4.35870885848999\n",
      "4.533609867095947\n",
      "3.9455718994140625\n",
      "4.14023494720459\n",
      "3.523327589035034\n",
      "5.200777053833008\n",
      "6.047828197479248\n",
      "4.778778553009033\n",
      "4.4046711921691895\n",
      "4.374507427215576\n",
      "3.7324509620666504\n",
      "3.738323450088501\n",
      "3.2432870864868164\n",
      "6.231375694274902\n",
      "4.303767681121826\n",
      "5.350028038024902\n",
      "4.069453239440918\n",
      "4.8910627365112305\n",
      "5.057056427001953\n",
      "4.280076503753662\n",
      "4.151169300079346\n",
      "4.5082807540893555\n",
      "4.369183540344238\n",
      "4.913649082183838\n",
      "4.3571624755859375\n",
      "5.489321708679199\n",
      "4.257832050323486\n",
      "4.931528091430664\n",
      "4.758783340454102\n",
      "6.524147033691406\n",
      "3.799160957336426\n",
      "5.144618034362793\n",
      "4.038285732269287\n",
      "5.69905948638916\n",
      "5.005151748657227\n",
      "5.178020477294922\n",
      "4.221950054168701\n",
      "4.772234916687012\n",
      "3.955709218978882\n",
      "4.267508506774902\n",
      "5.388544082641602\n",
      "4.175826549530029\n",
      "4.349738597869873\n",
      "4.318887233734131\n",
      "4.424094200134277\n",
      "4.621216297149658\n",
      "4.065549373626709\n",
      "4.0454630851745605\n",
      "5.01662540435791\n",
      "5.0923991203308105\n",
      "7.271111488342285\n",
      "6.463778018951416\n",
      "5.946794509887695\n",
      "10.040448188781738\n",
      "6.1015801429748535\n",
      "4.766806602478027\n",
      "5.829919815063477\n",
      "5.192502021789551\n",
      "4.893060207366943\n",
      "4.846151828765869\n",
      "5.791718006134033\n",
      "6.509989261627197\n",
      "4.840258598327637\n",
      "3.4776508808135986\n",
      "3.5060789585113525\n",
      "4.312602519989014\n",
      "4.968812942504883\n",
      "5.417557239532471\n",
      "5.596742153167725\n",
      "4.736457824707031\n",
      "5.149133205413818\n",
      "5.184409141540527\n",
      "6.956959247589111\n",
      "5.454213619232178\n",
      "5.91485071182251\n",
      "4.858012676239014\n",
      "7.1316328048706055\n",
      "7.850513458251953\n",
      "5.619138240814209\n",
      "4.868283271789551\n",
      "5.356337547302246\n",
      "6.190203666687012\n",
      "5.889069080352783\n",
      "4.361623764038086\n",
      "3.796107053756714\n",
      "5.721806049346924\n",
      "5.770761966705322\n",
      "5.03491735458374\n",
      "5.989498615264893\n",
      "6.3853983879089355\n",
      "5.785394668579102\n",
      "4.920879364013672\n",
      "4.656187057495117\n",
      "4.792899131774902\n",
      "5.025006294250488\n",
      "5.969302177429199\n",
      "7.598435401916504\n",
      "6.020657062530518\n",
      "5.27532958984375\n",
      "7.987850189208984\n",
      "4.011427402496338\n",
      "7.3744096755981445\n",
      "8.191767692565918\n",
      "8.201472282409668\n",
      "6.91226053237915\n",
      "6.357722759246826\n",
      "4.272686958312988\n",
      "3.9705562591552734\n",
      "4.413979530334473\n",
      "5.19900369644165\n",
      "4.4429521560668945\n",
      "6.826901912689209\n",
      "5.08501672744751\n",
      "4.961470127105713\n",
      "7.096659183502197\n",
      "6.164750576019287\n",
      "5.336227893829346\n",
      "5.215610027313232\n",
      "7.590446949005127\n",
      "8.078592300415039\n",
      "7.464523792266846\n",
      "8.386277198791504\n",
      "7.053267478942871\n",
      "5.945991516113281\n",
      "6.595273017883301\n",
      "4.242396831512451\n",
      "8.728780746459961\n",
      "7.152832984924316\n",
      "6.252439498901367\n",
      "4.7358598709106445\n",
      "8.297103881835938\n",
      "8.204163551330566\n",
      "7.856876373291016\n",
      "6.170777797698975\n",
      "6.075634479522705\n",
      "6.123526096343994\n",
      "7.073293685913086\n",
      "6.5599822998046875\n",
      "5.433914661407471\n",
      "8.399072647094727\n",
      "6.710233211517334\n",
      "6.141050815582275\n",
      "5.684324741363525\n",
      "6.492767333984375\n"
     ]
    }
   ],
   "source": [
    "n_steps = 1000\n",
    "batch_size = 32\n",
    "\n",
    "lri = []\n",
    "lri_losses = []\n",
    "\n",
    "for i in range(n_steps):\n",
    "    # Create a minibatch from X\n",
    "    ix = torch.randint(0, X.shape[0], (batch_size,))\n",
    "\n",
    "    # FORWARD PASS\n",
    "    # Emb layer\n",
    "    emb = C[X[ix]] # 32, 3, 2\n",
    "    h = torch.tanh(emb.view(-1, 6) @ W1 + b1) # 32, 100\n",
    "    # Output layer\n",
    "    logits = h @ W2 + b2 # 32, 27\n",
    "    # Loss\n",
    "    loss = F.cross_entropy(logits, Y[ix])\n",
    "    print(loss.item())\n",
    "\n",
    "    # BACKWARD PASS\n",
    "    lr = lrs[i]\n",
    "    for p in parameters:\n",
    "        p.grad = None\n",
    "    loss.backward()\n",
    "    for p in parameters:\n",
    "        p.data += -lr * p.grad\n",
    "\n",
    "    # track lr stats\n",
    "    lri.append(lre[i])\n",
    "    lri_losses.append(loss.item())"
   ],
   "metadata": {
    "collapsed": false,
    "pycharm": {
     "name": "#%%\n"
    }
   }
  },
  {
   "cell_type": "code",
   "execution_count": 29,
   "outputs": [
    {
     "data": {
      "text/plain": "<Figure size 640x480 with 1 Axes>",
      "image/png": "[encoded data removed]"
     },
     "metadata": {},
     "output_type": "display_data"
    }
   ],
   "source": [
    "plt.plot(lri, lri_losses)\n",
    "plt.xlabel('Exponent of learning rate -> 10 ** (x)')\n",
    "plt.ylabel('Loss');"
   ],
   "metadata": {
    "collapsed": false,
    "pycharm": {
     "name": "#%%\n"
    }
   }
  },
  {
   "cell_type": "markdown",
   "source": [
    "We can then just use the minimum of this evaluation as our learning rate.\n",
    "Here, we see that 10 ** -1 is a good, value, which is 0.1.\n",
    "(Note to reset the weights before running this again!)\n",
    "We run this a bunch of times, decreasing the learning rate as we go on:"
   ],
   "metadata": {
    "collapsed": false,
    "pycharm": {
     "name": "#%% md\n"
    }
   }
  },
  {
   "cell_type": "code",
   "execution_count": 30,
   "outputs": [],
   "source": [
    "n_steps = 10000\n",
    "batch_size = 32\n",
    "\n",
    "lri = []\n",
    "lri_losses = []\n",
    "\n",
    "for i in range(n_steps):\n",
    "    # Create a minibatch from X\n",
    "    ix = torch.randint(0, X.shape[0], (batch_size,))\n",
    "\n",
    "    # FORWARD PASS\n",
    "    # Emb layer\n",
    "    emb = C[X[ix]] # 32, 3, 2\n",
    "    h = torch.tanh(emb.view(-1, 6) @ W1 + b1) # 32, 100\n",
    "    # Output layer\n",
    "    logits = h @ W2 + b2 # 32, 27\n",
    "    # Loss\n",
    "    loss = F.cross_entropy(logits, Y[ix])\n",
    "\n",
    "    # BACKWARD PASS\n",
    "    lr = 0.1\n",
    "    for p in parameters:\n",
    "        p.grad = None\n",
    "    loss.backward()\n",
    "    for p in parameters:\n",
    "        p.data += -lr * p.grad"
   ],
   "metadata": {
    "collapsed": false,
    "pycharm": {
     "name": "#%%\n"
    }
   }
  },
  {
   "cell_type": "markdown",
   "source": [
    "Evaluate loss on the whole training set:"
   ],
   "metadata": {
    "collapsed": false,
    "pycharm": {
     "name": "#%% md\n"
    }
   }
  },
  {
   "cell_type": "code",
   "execution_count": 31,
   "outputs": [
    {
     "data": {
      "text/plain": "tensor(2.4229, grad_fn=<NllLossBackward0>)"
     },
     "execution_count": 31,
     "metadata": {},
     "output_type": "execute_result"
    }
   ],
   "source": [
    "emb = C[X] # 32, 3, 2\n",
    "h = torch.tanh(emb.view(-1, 6) @ W1 + b1) # 32, 100\n",
    "# Output layer\n",
    "logits = h @ W2 + b2 # 32, 27\n",
    "# Loss\n",
    "loss = F.cross_entropy(logits, Y)\n",
    "loss"
   ],
   "metadata": {
    "collapsed": false,
    "pycharm": {
     "name": "#%%\n"
    }
   }
  },
  {
   "cell_type": "markdown",
   "source": [
    "### Conclusion\n",
    "\n",
    "__Things left out due to being known in detail already__:\n",
    "* Train/Dev/Test splits\n",
    "* Experimenting with larger layers: Scaling up embedding layer does not sufficiently increase loss -> Must be the dimension of the embeddings (2 is too small)\n",
    "Andrej scales it up to a dimension of 30 with an embedding layer size of 300."
   ],
   "metadata": {
    "collapsed": false,
    "pycharm": {
     "name": "#%% md\n"
    }
   }
  }
 ],
 "metadata": {
  "kernelspec": {
   "display_name": "Python 3",
   "language": "python",
   "name": "python3"
  },
  "language_info": {
   "codemirror_mode": {
    "name": "ipython",
    "version": 2
   },
   "file_extension": ".py",
   "mimetype": "text/x-python",
   "name": "python",
   "nbconvert_exporter": "python",
   "pygments_lexer": "ipython2",
   "version": "2.7.6"
  }
 },
 "nbformat": 4,
 "nbformat_minor": 0
}